{
 "cells": [
  {
   "cell_type": "code",
   "execution_count": 10,
   "metadata": {},
   "outputs": [],
   "source": [
    "import os\n",
    "import shutil\n",
    "import random\n",
    "\n",
    "def move_folders_with_three_or_more_pictures(database_path, training_path, validation_path):\n",
    "    for celebrity_name in os.listdir(database_path):\n",
    "        celebrity_folder = os.path.join(database_path, celebrity_name)\n",
    "\n",
    "        if os.path.isdir(celebrity_folder):\n",
    "            pictures_count = len([file for file in os.listdir(celebrity_folder) if file.endswith(\".jpg\")])\n",
    "\n",
    "            if pictures_count >= 3:\n",
    "                training_celebrity_folder = os.path.join(training_path, celebrity_name)\n",
    "                os.makedirs(training_celebrity_folder, exist_ok=True)\n",
    "\n",
    "                for file_name in os.listdir(celebrity_folder):\n",
    "                    file_path = os.path.join(celebrity_folder, file_name)\n",
    "                    shutil.copy(file_path, training_celebrity_folder)\n",
    "\n",
    "    os.makedirs(validation_path, exist_ok=True)\n",
    "\n",
    "    for celebrity_name in os.listdir(training_path):\n",
    "        training_celebrity_folder = os.path.join(training_path, celebrity_name)\n",
    "\n",
    "        if os.path.isdir(training_celebrity_folder):\n",
    "            # Get a random .jpg file from the training folder\n",
    "            training_files = [file for file in os.listdir(training_celebrity_folder) if file.endswith(\".jpg\")]\n",
    "            if training_files:\n",
    "                random_file = random.choice(training_files)\n",
    "                file_path = os.path.join(training_celebrity_folder, random_file)\n",
    "                dst_path = os.path.join(validation_path, celebrity_name)\n",
    "                os.makedirs(dst_path, exist_ok=True)\n",
    "                \n",
    "                # Move the random file to the validation folder\n",
    "                shutil.move(file_path, dst_path)"
   ]
  },
  {
   "cell_type": "code",
   "execution_count": 11,
   "metadata": {},
   "outputs": [],
   "source": [
    "# Set the paths to your database and training folders\n",
    "database_path = \"./data/lfw-deepfunneled/lfw-deepfunneled\"\n",
    "training_path = \"./face_recognizer/training\"\n",
    "validation_path = \"./face_recognizer/validation\"\n",
    "\n",
    "# Call the function to move folders with 3 or more pictures to the training folder\n",
    "move_folders_with_three_or_more_pictures(database_path, training_path, validation_path)\n"
   ]
  },
  {
   "cell_type": "code",
   "execution_count": null,
   "metadata": {},
   "outputs": [],
   "source": []
  }
 ],
 "metadata": {
  "kernelspec": {
   "display_name": "Python 3 (ipykernel)",
   "language": "python",
   "name": "python3"
  },
  "language_info": {
   "codemirror_mode": {
    "name": "ipython",
    "version": 3
   },
   "file_extension": ".py",
   "mimetype": "text/x-python",
   "name": "python",
   "nbconvert_exporter": "python",
   "pygments_lexer": "ipython3",
   "version": "3.11.5"
  }
 },
 "nbformat": 4,
 "nbformat_minor": 2
}
